{
  "nbformat": 4,
  "nbformat_minor": 0,
  "metadata": {
    "colab": {
      "name": "0511.ipynb",
      "provenance": [],
      "collapsed_sections": [],
      "authorship_tag": "ABX9TyMDt091hIKhrleNKuRj7p27",
      "include_colab_link": true
    },
    "kernelspec": {
      "name": "python3",
      "display_name": "Python 3"
    },
    "language_info": {
      "name": "python"
    }
  },
  "cells": [
    {
      "cell_type": "markdown",
      "metadata": {
        "id": "view-in-github",
        "colab_type": "text"
      },
      "source": [
        "<a href=\"https://colab.research.google.com/github/tyuting/Introduction-to-Computers/blob/main/0511.ipynb\" target=\"_parent\"><img src=\"https://colab.research.google.com/assets/colab-badge.svg\" alt=\"Open In Colab\"/></a>"
      ]
    },
    {
      "cell_type": "code",
      "execution_count": null,
      "metadata": {
        "colab": {
          "base_uri": "https://localhost:8080/"
        },
        "id": "AGxKpivYcGSD",
        "outputId": "3b47d957-007e-49df-b6f6-f121c9cdffb4"
      },
      "outputs": [
        {
          "output_type": "stream",
          "name": "stdout",
          "text": [
            "test\n"
          ]
        }
      ],
      "source": [
        "print(\"test\")"
      ]
    },
    {
      "cell_type": "code",
      "source": [
        "temp = float(input(\"請輸入體溫:\"))\n",
        "if(temp>=37.5):\n",
        "    print(\"體溫過高!\")\n",
        "elif((temp>=37)and(temp<=37.4)):\n",
        "    print(\"體溫略高!\")\n",
        "elif((temp>=34)and(temp<=36.9)):\n",
        "    print(\"體溫正常!\")\n",
        "else:\n",
        "    print(\"體溫異常,請重新量測!\")"
      ],
      "metadata": {
        "colab": {
          "base_uri": "https://localhost:8080/"
        },
        "id": "H1bW7b5Qg7LL",
        "outputId": "c5f33e76-c98c-45ce-9566-dae185b47c7e"
      },
      "execution_count": null,
      "outputs": [
        {
          "output_type": "stream",
          "name": "stdout",
          "text": [
            "請輸入體溫:37.5\n",
            "體溫過高!\n"
          ]
        }
      ]
    },
    {
      "cell_type": "code",
      "source": [
        "money = int(input(\"請輸入購物金額:\"))\n",
        "if(money>=10000):\n",
        "  if(money>=100000):\n",
        "    print(\"八折\",money * 0.8,end=\"元\\n\") \n",
        "  elif((money>=50000)and(money<100000)):\n",
        "    print(\"八五折\",money * 0.85,end=\"元\\n\")\n",
        "  elif((money>=30000)and(money<50000)):\n",
        "    print(\"九折\",money * 0.9,end=\"元\\n\")\n",
        "  else:\n",
        "    print(\"九五折\",money * 0.95,end=\"元\\n\")\n",
        "else:\n",
        "  print(\"沒打折\",money,end=\"元\\n\")\n",
        "\n",
        "money = int(input(\"請輸入購物金額:\"))\n",
        "if(money>=10000):\n",
        "  if(money>=100000):\n",
        "    print(\"八折\",money * 0.8,end=\"元\\n\") \n",
        "  elif((money>=50000)and(money<100000)):\n",
        "    print(\"八五折\",money * 0.85,end=\"元\\n\")\n",
        "  elif((money>=30000)and(money<50000)):\n",
        "    print(\"九折\",money * 0.9,end=\"元\\n\")\n",
        "  else:\n",
        "    print(\"九五折\",money * 0.95,end=\"元\\n\")\n",
        "else:\n",
        "  print(\"沒打折\",money,end=\"元\\n\")"
      ],
      "metadata": {
        "colab": {
          "base_uri": "https://localhost:8080/"
        },
        "id": "brGYL7VAjavD",
        "outputId": "4bea0b31-e1f6-41ac-db69-d168fd10fa9b"
      },
      "execution_count": 1,
      "outputs": [
        {
          "output_type": "stream",
          "name": "stdout",
          "text": [
            "請輸入購物金額:100\n",
            "沒打折 100元\n",
            "請輸入購物金額:100000\n",
            "八折 80000.0元\n"
          ]
        }
      ]
    },
    {
      "cell_type": "code",
      "source": [
        "a = int(input(\"請輸入成績:\"))\n",
        "if(a>=90):\n",
        "  print(\"A\")\n",
        "elif((a<=89)and(a>=80)):\n",
        "  print(\"B\")\n",
        "elif((a<=79)and(a>=70)):\n",
        "  print(\"C\")\n",
        "elif((a<=69)and(a>=60)):\n",
        "  print(\"D\")\n",
        "else:\n",
        "  print(\"E\")\n",
        "\n",
        "a = int(input(\"請輸入成績:\"))\n",
        "if(a>=90):\n",
        "  print(\"A\")\n",
        "elif((a<=89)and(a>=80)):\n",
        "  print(\"B\")\n",
        "elif((a<=79)and(a>=70)):\n",
        "  print(\"C\")\n",
        "elif((a<=69)and(a>=60)):\n",
        "  print(\"D\")\n",
        "else:\n",
        "  print(\"E\")\n",
        "\n",
        "a = int(input(\"請輸入成績:\"))\n",
        "if(a>=90):\n",
        "  print(\"A\")\n",
        "elif((a<=89)and(a>=80)):\n",
        "  print(\"B\")\n",
        "elif((a<=79)and(a>=70)):\n",
        "  print(\"C\")\n",
        "elif((a<=69)and(a>=60)):\n",
        "  print(\"D\")\n",
        "else:\n",
        "  print(\"E\")"
      ],
      "metadata": {
        "colab": {
          "base_uri": "https://localhost:8080/"
        },
        "id": "VvJBCKXZoWQW",
        "outputId": "93d4d056-d684-4d62-ffef-00e4d292cb00"
      },
      "execution_count": 2,
      "outputs": [
        {
          "output_type": "stream",
          "name": "stdout",
          "text": [
            "請輸入成績:90\n",
            "A\n",
            "請輸入成績:80\n",
            "B\n",
            "請輸入成績:50\n",
            "E\n"
          ]
        }
      ]
    },
    {
      "cell_type": "code",
      "source": [
        "c = int(input(\"請輸入今年收入淨額:\"))\n",
        "if(c>=300000):\n",
        "  if(c>=2000000):\n",
        "    print(\"付稅金額:\",c * 0.3,end=\"元\\n\")\n",
        "  elif((c<2000000)and(c>=1000000)):\n",
        "    print(\"付稅金額:\",c * 0.21,end=\"元\\n\")\n",
        "  elif((c<1000000)and(c>=600000)):\n",
        "    print(\"付稅金額:\",c * 0.13,end=\"元\\n\")\n",
        "  else:\n",
        "    print(\"付稅金額:\",c * 0.06,end=\"元\\n\")\n",
        "else:\n",
        "  print(\"付稅金額:\",c * 0,end=\"元\\n\")\n",
        "\n",
        "c = int(input(\"請輸入今年收入淨額:\"))\n",
        "if(c>=300000):\n",
        "  if(c>=2000000):\n",
        "    print(\"付稅金額:\",c * 0.3,end=\"元\\n\")\n",
        "  elif((c<2000000)and(c>=1000000)):\n",
        "    print(\"付稅金額:\",c * 0.21,end=\"元\\n\")\n",
        "  elif((c<1000000)and(c>=600000)):\n",
        "    print(\"付稅金額:\",c * 0.13,end=\"元\\n\")\n",
        "  else:\n",
        "    print(\"付稅金額:\",c * 0.06,end=\"元\\n\")\n",
        "else:\n",
        "  print(\"付稅金額:\",c * 0,end=\"元\\n\")"
      ],
      "metadata": {
        "colab": {
          "base_uri": "https://localhost:8080/"
        },
        "id": "FLizPg_WsB0T",
        "outputId": "58983ab7-4656-4e2c-ee81-16cb7816678b"
      },
      "execution_count": 3,
      "outputs": [
        {
          "output_type": "stream",
          "name": "stdout",
          "text": [
            "請輸入今年收入淨額:100000\n",
            "付稅金額: 0元\n",
            "請輸入今年收入淨額:2000000\n",
            "付稅金額: 600000.0元\n"
          ]
        }
      ]
    },
    {
      "cell_type": "code",
      "source": [
        "month = int(input(\"請輸入月份:\"))\n",
        "if((month<=12)and(month>=1)):\n",
        "  if((month>=3)and(month<=5)):\n",
        "    print(month,\"是春天!\")\n",
        "  elif((month>=6)and(month<=8)):\n",
        "    print(month,\"是夏天!\")\n",
        "  elif((month>=9)and(month<=11)):\n",
        "    print(month,\"是秋天!\")\n",
        "  else:\n",
        "    print(month,\"是冬天!\")\n",
        "else:\n",
        "  print(\"月份不在範圍內!\")"
      ],
      "metadata": {
        "colab": {
          "base_uri": "https://localhost:8080/"
        },
        "id": "5hVyVW7luFmF",
        "outputId": "8386e013-3dc5-47f5-d250-88fde1db0e48"
      },
      "execution_count": null,
      "outputs": [
        {
          "output_type": "stream",
          "name": "stdout",
          "text": [
            "請輸入月份:6\n",
            "6 是夏天!\n"
          ]
        }
      ]
    },
    {
      "cell_type": "code",
      "source": [
        ""
      ],
      "metadata": {
        "id": "seGUaqqbvewL"
      },
      "execution_count": null,
      "outputs": []
    }
  ]
}