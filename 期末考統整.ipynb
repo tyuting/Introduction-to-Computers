{
  "nbformat": 4,
  "nbformat_minor": 0,
  "metadata": {
    "colab": {
      "name": "期末考統整.ipynb",
      "provenance": [],
      "authorship_tag": "ABX9TyN3XPQyjYisjfWx+1OaoEda",
      "include_colab_link": true
    },
    "kernelspec": {
      "name": "python3",
      "display_name": "Python 3"
    },
    "language_info": {
      "name": "python"
    }
  },
  "cells": [
    {
      "cell_type": "markdown",
      "metadata": {
        "id": "view-in-github",
        "colab_type": "text"
      },
      "source": [
        "<a href=\"https://colab.research.google.com/github/tyuting/Introduction-to-Computers/blob/main/%E6%9C%9F%E6%9C%AB%E8%80%83%E7%B5%B1%E6%95%B4.ipynb\" target=\"_parent\"><img src=\"https://colab.research.google.com/assets/colab-badge.svg\" alt=\"Open In Colab\"/></a>"
      ]
    },
    {
      "cell_type": "code",
      "execution_count": null,
      "metadata": {
        "id": "fNwVJGHnxzrO"
      },
      "outputs": [],
      "source": [
        ""
      ]
    },
    {
      "cell_type": "code",
      "source": [
        "print(\"hi\")"
      ],
      "metadata": {
        "colab": {
          "base_uri": "https://localhost:8080/"
        },
        "id": "veyL6cu1x2p5",
        "outputId": "024edec0-9932-4961-9ed1-1f1985920043"
      },
      "execution_count": null,
      "outputs": [
        {
          "output_type": "stream",
          "name": "stdout",
          "text": [
            "hi\n"
          ]
        }
      ]
    },
    {
      "cell_type": "markdown",
      "source": [
        "第1題:請用print印出你的班級、姓名以及學號 輸出如下："
      ],
      "metadata": {
        "id": "bPYCpt_QyxlM"
      }
    },
    {
      "cell_type": "code",
      "source": [
        "print(\"班級:統計1A\",\"學號:410650435\",\"姓名:蔡宇庭\",sep=\"\\n\")"
      ],
      "metadata": {
        "colab": {
          "base_uri": "https://localhost:8080/"
        },
        "id": "zdG5h6eXx5qk",
        "outputId": "6aaa74e3-9b7f-4cc2-a435-854047fe917f"
      },
      "execution_count": null,
      "outputs": [
        {
          "output_type": "stream",
          "name": "stdout",
          "text": [
            "班級:統計1A\n",
            "學號:410650435\n",
            "姓名:蔡宇庭\n"
          ]
        }
      ]
    },
    {
      "cell_type": "markdown",
      "source": [
        "第2題: 請增加三個變數，分別爲 month, day, week，並讓其能夠輸入月份、日期、星期，最後輸入完之後將其印出！"
      ],
      "metadata": {
        "id": "Ibi0Enpl3mlI"
      }
    },
    {
      "cell_type": "code",
      "source": [
        "month = int(input(\"請輸入月份:\"))\n",
        "day = int(input(\"請輸入日期:\"))\n",
        "week = (input(\"請輸入今天是星期幾:\"))\n",
        "print(\"今天是:\",month,\"月\",\",\",day,\"號\",\",\",\"星期\",week)"
      ],
      "metadata": {
        "colab": {
          "base_uri": "https://localhost:8080/"
        },
        "id": "iyNZpkUu5kVg",
        "outputId": "1c4ba947-52b9-4419-aae0-2cb77b26f1c6"
      },
      "execution_count": null,
      "outputs": [
        {
          "output_type": "stream",
          "name": "stdout",
          "text": [
            "請輸入月份:1\n",
            "請輸入日期:1\n",
            "請輸入今天是星期幾:一\n",
            "今天是: 1 月 , 1 號 , 星期 一\n"
          ]
        }
      ]
    },
    {
      "cell_type": "markdown",
      "source": [
        "第3題: 請設計一個計算梯形面積的程式，面積計算至小數點後兩位，輸入輸出需與下圖一致。"
      ],
      "metadata": {
        "id": "d0A8V-dh7xfB"
      }
    },
    {
      "cell_type": "code",
      "source": [
        "上底 = int(input(\"請輸入梯形上底長度:\"))\n",
        "下底 = int(input(\"請輸入梯形下底長度:\"))\n",
        "高 = int(input(\"請輸入梯形高:\"))\n",
        "面積 = (上底+下底)*高/2\n",
        "print(\"梯形上底長度為: %d公分,梯形下底長度為: %d公分,梯形高度為: %d公分,梯形面積為: %0.2f平方公分\" %(上底,下底,高,面積))"
      ],
      "metadata": {
        "colab": {
          "base_uri": "https://localhost:8080/"
        },
        "id": "wZtVEvLw6E_-",
        "outputId": "cb08ff44-6990-4505-9558-437b1553a245"
      },
      "execution_count": null,
      "outputs": [
        {
          "output_type": "stream",
          "name": "stdout",
          "text": [
            "請輸入梯形上底長度:4\n",
            "請輸入梯形下底長度:5\n",
            "請輸入梯形高:4\n",
            "梯形上底長度為: 4公分,梯形下底長度為: 5公分,梯形高度為: 4公分,梯形面積為: 18.00平方公分\n"
          ]
        }
      ]
    },
    {
      "cell_type": "markdown",
      "source": [
        "第4題:請設計一個計算BMI的的程式，輸入輸出結果需如下圖。"
      ],
      "metadata": {
        "id": "H3NTvtzXYCZD"
      }
    },
    {
      "cell_type": "code",
      "source": [
        "cm = float(input(\"請輸入您的身高(cm):\"))\n",
        "kg = float(input(\"請輸入您的體重(kg):\"))\n",
        "BMI = kg/(cm/100)**2\n",
        "print(\"身高 %d 公分, 體重 %d 公斤, BMI值為 %0.3f\" %(cm,kg,BMI))"
      ],
      "metadata": {
        "colab": {
          "base_uri": "https://localhost:8080/"
        },
        "id": "URgMcotTX443",
        "outputId": "2d70422a-54c5-4ae5-f7fe-3c9b0e811263"
      },
      "execution_count": null,
      "outputs": [
        {
          "output_type": "stream",
          "name": "stdout",
          "text": [
            "請輸入您的身高(cm):180\n",
            "請輸入您的體重(kg):60\n",
            "身高 180 公分, 體重 60 公斤, BMI值為 18.519\n"
          ]
        }
      ]
    },
    {
      "cell_type": "markdown",
      "source": [
        "第5題: 請設計一個判斷 “偶數”/“奇數”的程式，輸入輸出結果需如下圖"
      ],
      "metadata": {
        "id": "eIDMp2p4YTHp"
      }
    },
    {
      "cell_type": "code",
      "source": [
        "n = int(input(\"請輸入正整數:\"))\n",
        "if((n%2)==0):\n",
        "    print(n,\"為偶數!\")\n",
        "else:\n",
        "    print(n,\"為奇數!\")\n",
        "\n",
        "n = int(input(\"請輸入正整數:\"))\n",
        "if((n%2)==0):\n",
        "    print(n,\"為偶數!\")\n",
        "else:\n",
        "    print(n,\"為奇數!\")"
      ],
      "metadata": {
        "colab": {
          "base_uri": "https://localhost:8080/"
        },
        "id": "Tp60WNELYGhA",
        "outputId": "169a1bc8-1309-44c1-ac22-69be1cc68d8b"
      },
      "execution_count": null,
      "outputs": [
        {
          "output_type": "stream",
          "name": "stdout",
          "text": [
            "請輸入正整數:50\n",
            "50 為偶數!\n",
            "請輸入正整數:51\n",
            "51 為奇數!\n"
          ]
        }
      ]
    },
    {
      "cell_type": "markdown",
      "source": [
        "第6題: 請設計一個判斷體溫的程式，當體溫高於37.5或小於36，顯示 “體溫異常，請重新量測!”，體溫介於36~37.5間顯示\"體溫正常，請進校園!\""
      ],
      "metadata": {
        "id": "JtJZF_XiYvdc"
      }
    },
    {
      "cell_type": "code",
      "source": [
        "c = float(input(\"請輸入你的體溫\"))\n",
        "if((c<=37.5)and(c>=36)):\n",
        "    print(\"體溫正常,請進校園!\")\n",
        "elif((c>37.5)or(c<36)):\n",
        "    print(\"體溫異常,請重新測量!\")\n",
        "\n",
        "c = float(input(\"請輸入你的體溫\"))\n",
        "if((c<=37.5)and(c>=36)):\n",
        "    print(\"體溫正常,請進校園!\")\n",
        "elif((c>37.5)or(c<36)):\n",
        "    print(\"體溫異常,請重新測量!\")"
      ],
      "metadata": {
        "colab": {
          "base_uri": "https://localhost:8080/"
        },
        "id": "rQSkkqfSYxJL",
        "outputId": "34da4cc3-8ee6-431c-b246-ded6363a6156"
      },
      "execution_count": null,
      "outputs": [
        {
          "output_type": "stream",
          "name": "stdout",
          "text": [
            "請輸入你的體溫34\n",
            "體溫異常,請重新測量!\n",
            "請輸入你的體溫37.4\n",
            "體溫正常,請進校園!\n"
          ]
        }
      ]
    },
    {
      "cell_type": "markdown",
      "source": [
        "本金"
      ],
      "metadata": {
        "id": "OIQNI2pcao_V"
      }
    },
    {
      "cell_type": "code",
      "source": [
        "deposit = int(input(\"請輸入本金存款金額\"))\n",
        "years = 1.02**6\n",
        "deposit *= years\n",
        "print(\"六年後存款為:\",deposit)"
      ],
      "metadata": {
        "colab": {
          "base_uri": "https://localhost:8080/"
        },
        "id": "r4lHr5osZBBh",
        "outputId": "08144e7c-ef66-41b9-e5df-5f63c00abf56"
      },
      "execution_count": null,
      "outputs": [
        {
          "output_type": "stream",
          "name": "stdout",
          "text": [
            "請輸入本金存款金額10000\n",
            "六年後存款為: 11261.62419264\n"
          ]
        }
      ]
    },
    {
      "cell_type": "markdown",
      "source": [
        "購物金"
      ],
      "metadata": {
        "id": "BjjorQJybWWm"
      }
    },
    {
      "cell_type": "code",
      "source": [
        "money = int(input(\"請輸入購物金額:\"))\n",
        "if(money>=10000):\n",
        "  if(money>=100000):\n",
        "    print(\"八折\",money * 0.8,end=\"元\\n\") \n",
        "  elif((money>=50000)and(money<100000)):\n",
        "    print(\"八五折\",money * 0.85,end=\"元\\n\")\n",
        "  elif((money>=30000)and(money<50000)):\n",
        "    print(\"九折\",money * 0.9,end=\"元\\n\")\n",
        "  else:\n",
        "    print(\"九五折\",money * 0.95,end=\"元\\n\")\n",
        "else:\n",
        "  print(\"沒打折\",money,end=\"元\\n\")"
      ],
      "metadata": {
        "colab": {
          "base_uri": "https://localhost:8080/"
        },
        "id": "35j-6WYmauuR",
        "outputId": "1131f01a-017e-4707-d2e1-37fea8410fd3"
      },
      "execution_count": null,
      "outputs": [
        {
          "output_type": "stream",
          "name": "stdout",
          "text": [
            "請輸入購物金額:100\n",
            "沒打折 100元\n"
          ]
        }
      ]
    },
    {
      "cell_type": "markdown",
      "source": [
        "成績"
      ],
      "metadata": {
        "id": "k_CA-WtYcEPL"
      }
    },
    {
      "cell_type": "code",
      "source": [
        "a = int(input(\"請輸入成績:\"))\n",
        "if(a>=90):\n",
        "  print(\"A\")\n",
        "elif((a<=89)and(a>=80)):\n",
        "  print(\"B\")\n",
        "elif((a<=79)and(a>=70)):\n",
        "  print(\"C\")\n",
        "elif((a<=69)and(a>=60)):\n",
        "  print(\"D\")\n",
        "else:\n",
        "  print(\"E\")"
      ],
      "metadata": {
        "colab": {
          "base_uri": "https://localhost:8080/"
        },
        "id": "sVxsWjCebayI",
        "outputId": "c9784313-249f-4ee1-dd70-d43e78fce9c7"
      },
      "execution_count": null,
      "outputs": [
        {
          "output_type": "stream",
          "name": "stdout",
          "text": [
            "請輸入成績:80\n",
            "B\n"
          ]
        }
      ]
    },
    {
      "cell_type": "markdown",
      "source": [
        "收入淨額"
      ],
      "metadata": {
        "id": "EZgpsWhVcOmz"
      }
    },
    {
      "cell_type": "code",
      "source": [
        "c = int(input(\"請輸入今年收入淨額:\"))\n",
        "if(c>=300000):\n",
        "  if(c>=2000000):\n",
        "    print(\"付稅金額:\",c * 0.3,end=\"元\\n\")\n",
        "  elif((c<2000000)and(c>=1000000)):\n",
        "    print(\"付稅金額:\",c * 0.21,end=\"元\\n\")\n",
        "  elif((c<1000000)and(c>=600000)):\n",
        "    print(\"付稅金額:\",c * 0.13,end=\"元\\n\")\n",
        "  else:\n",
        "    print(\"付稅金額:\",c * 0.06,end=\"元\\n\")\n",
        "else:\n",
        "  print(\"付稅金額:\",c * 0,end=\"元\\n\")"
      ],
      "metadata": {
        "colab": {
          "base_uri": "https://localhost:8080/"
        },
        "id": "xNLqJqh_cJO3",
        "outputId": "78b40255-64ac-4554-ca99-fa0d351f1986"
      },
      "execution_count": null,
      "outputs": [
        {
          "output_type": "stream",
          "name": "stdout",
          "text": [
            "請輸入今年收入淨額:10000\n",
            "付稅金額: 0元\n"
          ]
        }
      ]
    },
    {
      "cell_type": "code",
      "source": [
        "month = int(input(\"請輸入月份:\"))\n",
        "if((month<=12)and(month>=1)):\n",
        "  if((month>=3)and(month<=5)):\n",
        "    print(month,\"是春天!\")\n",
        "  elif((month>=6)and(month<=8)):\n",
        "    print(month,\"是夏天!\")\n",
        "  elif((month>=9)and(month<=11)):\n",
        "    print(month,\"是秋天!\")\n",
        "  else:\n",
        "    print(month,\"是冬天!\")\n",
        "else:\n",
        "  print(\"月份不在範圍內!\")"
      ],
      "metadata": {
        "colab": {
          "base_uri": "https://localhost:8080/"
        },
        "id": "kXyzXfe-cTwh",
        "outputId": "78f0f7e5-b9c8-4eeb-df39-2db06beeca81"
      },
      "execution_count": null,
      "outputs": [
        {
          "output_type": "stream",
          "name": "stdout",
          "text": [
            "請輸入月份:12\n",
            "12 是冬天!\n"
          ]
        }
      ]
    },
    {
      "cell_type": "markdown",
      "source": [
        "1到n的整數和"
      ],
      "metadata": {
        "id": "IGS_o5TDfalQ"
      }
    },
    {
      "cell_type": "code",
      "source": [
        "sum = 0\n",
        "test = int(input(\"請輸入一個正整數;\"))\n",
        "for n in range(1,test+1):\n",
        "    sum = sum+n\n",
        "    print(\"1到\"+str(n)+\"的整數和為:\",sum)"
      ],
      "metadata": {
        "colab": {
          "base_uri": "https://localhost:8080/"
        },
        "id": "viI2sOCMchNt",
        "outputId": "e44c1552-5821-4f10-bdc4-ac9a8eceaaa6"
      },
      "execution_count": null,
      "outputs": [
        {
          "output_type": "stream",
          "name": "stdout",
          "text": [
            "請輸入一個正整數;10\n",
            "1到1的整數和為: 1\n",
            "1到2的整數和為: 3\n",
            "1到3的整數和為: 6\n",
            "1到4的整數和為: 10\n",
            "1到5的整數和為: 15\n",
            "1到6的整數和為: 21\n",
            "1到7的整數和為: 28\n",
            "1到8的整數和為: 36\n",
            "1到9的整數和為: 45\n",
            "1到10的整數和為: 55\n"
          ]
        }
      ]
    },
    {
      "cell_type": "code",
      "source": [
        "a = int(input(\"請輸入一個正整數:\"))\n",
        "sum = 0\n",
        "for n in range(a+1):\n",
        "  sum =sum+n\n",
        "print(\"1到\",a,\"的整數和為\",sum)"
      ],
      "metadata": {
        "colab": {
          "base_uri": "https://localhost:8080/"
        },
        "id": "pidYdH1uioIl",
        "outputId": "0c67c224-5ebb-4774-f3d6-c747423d3d93"
      },
      "execution_count": null,
      "outputs": [
        {
          "output_type": "stream",
          "name": "stdout",
          "text": [
            "請輸入一個正整數:50\n",
            "1到 50 的整數和為 1275\n"
          ]
        }
      ]
    },
    {
      "cell_type": "markdown",
      "source": [
        "迴圈"
      ],
      "metadata": {
        "id": "NQXbizGYlbAK"
      }
    },
    {
      "cell_type": "code",
      "source": [
        "count = 0\n",
        "for string in \"測試看看!\":\n",
        "    count+=1\n",
        "    if string == \"看\":\n",
        "        break\n",
        "    print(string)\n",
        "print(\"迴圈結束\")\n",
        "print(\"回圈執行了 %d 次\" %count)"
      ],
      "metadata": {
        "colab": {
          "base_uri": "https://localhost:8080/"
        },
        "id": "_Z77zHSqjJ1d",
        "outputId": "5d77451d-e09b-491f-d215-c46a0927c79c"
      },
      "execution_count": null,
      "outputs": [
        {
          "output_type": "stream",
          "name": "stdout",
          "text": [
            "測\n",
            "試\n",
            "迴圈結束\n",
            "回圈執行了 3 次\n"
          ]
        }
      ]
    },
    {
      "cell_type": "markdown",
      "source": [
        "99乘法表"
      ],
      "metadata": {
        "id": "xl-kgKlbmVRh"
      }
    },
    {
      "cell_type": "code",
      "source": [
        "for j in range(1,10):\n",
        "    for i in range(1,10):\n",
        "        k = i*j\n",
        "        if(k<10):\n",
        "            print(j,\"*\",i,\"=\",k,end= \"   \")\n",
        "        else:\n",
        "            print(j,\"*\",i,\"=\",k,end= \"  \")\n",
        "    print(\"\")"
      ],
      "metadata": {
        "colab": {
          "base_uri": "https://localhost:8080/"
        },
        "id": "qcATPWF9kCEX",
        "outputId": "0354a5db-d945-4c73-850f-01603ebe3237"
      },
      "execution_count": null,
      "outputs": [
        {
          "output_type": "stream",
          "name": "stdout",
          "text": [
            "1 * 1 = 1   1 * 2 = 2   1 * 3 = 3   1 * 4 = 4   1 * 5 = 5   1 * 6 = 6   1 * 7 = 7   1 * 8 = 8   1 * 9 = 9   \n",
            "2 * 1 = 2   2 * 2 = 4   2 * 3 = 6   2 * 4 = 8   2 * 5 = 10  2 * 6 = 12  2 * 7 = 14  2 * 8 = 16  2 * 9 = 18  \n",
            "3 * 1 = 3   3 * 2 = 6   3 * 3 = 9   3 * 4 = 12  3 * 5 = 15  3 * 6 = 18  3 * 7 = 21  3 * 8 = 24  3 * 9 = 27  \n",
            "4 * 1 = 4   4 * 2 = 8   4 * 3 = 12  4 * 4 = 16  4 * 5 = 20  4 * 6 = 24  4 * 7 = 28  4 * 8 = 32  4 * 9 = 36  \n",
            "5 * 1 = 5   5 * 2 = 10  5 * 3 = 15  5 * 4 = 20  5 * 5 = 25  5 * 6 = 30  5 * 7 = 35  5 * 8 = 40  5 * 9 = 45  \n",
            "6 * 1 = 6   6 * 2 = 12  6 * 3 = 18  6 * 4 = 24  6 * 5 = 30  6 * 6 = 36  6 * 7 = 42  6 * 8 = 48  6 * 9 = 54  \n",
            "7 * 1 = 7   7 * 2 = 14  7 * 3 = 21  7 * 4 = 28  7 * 5 = 35  7 * 6 = 42  7 * 7 = 49  7 * 8 = 56  7 * 9 = 63  \n",
            "8 * 1 = 8   8 * 2 = 16  8 * 3 = 24  8 * 4 = 32  8 * 5 = 40  8 * 6 = 48  8 * 7 = 56  8 * 8 = 64  8 * 9 = 72  \n",
            "9 * 1 = 9   9 * 2 = 18  9 * 3 = 27  9 * 4 = 36  9 * 5 = 45  9 * 6 = 54  9 * 7 = 63  9 * 8 = 72  9 * 9 = 81  \n"
          ]
        }
      ]
    },
    {
      "cell_type": "code",
      "source": [
        "for i in range(2,10):\n",
        "    for j in range(1,10):\n",
        "        product = i * j\n",
        "        print(\"%d*%d=%2d\" %(i, j, product), end=\" \")\n",
        "    print()"
      ],
      "metadata": {
        "colab": {
          "base_uri": "https://localhost:8080/"
        },
        "id": "3vzR_iHyoOZn",
        "outputId": "7abf6bc9-8f72-404f-b911-7ec21cb3c90b"
      },
      "execution_count": null,
      "outputs": [
        {
          "output_type": "stream",
          "name": "stdout",
          "text": [
            "2*1= 2 2*2= 4 2*3= 6 2*4= 8 2*5=10 2*6=12 2*7=14 2*8=16 2*9=18 \n",
            "3*1= 3 3*2= 6 3*3= 9 3*4=12 3*5=15 3*6=18 3*7=21 3*8=24 3*9=27 \n",
            "4*1= 4 4*2= 8 4*3=12 4*4=16 4*5=20 4*6=24 4*7=28 4*8=32 4*9=36 \n",
            "5*1= 5 5*2=10 5*3=15 5*4=20 5*5=25 5*6=30 5*7=35 5*8=40 5*9=45 \n",
            "6*1= 6 6*2=12 6*3=18 6*4=24 6*5=30 6*6=36 6*7=42 6*8=48 6*9=54 \n",
            "7*1= 7 7*2=14 7*3=21 7*4=28 7*5=35 7*6=42 7*7=49 7*8=56 7*9=63 \n",
            "8*1= 8 8*2=16 8*3=24 8*4=32 8*5=40 8*6=48 8*7=56 8*8=64 8*9=72 \n",
            "9*1= 9 9*2=18 9*3=27 9*4=36 9*5=45 9*6=54 9*7=63 9*8=72 9*9=81 \n"
          ]
        }
      ]
    },
    {
      "cell_type": "markdown",
      "source": [
        "最小公倍數"
      ],
      "metadata": {
        "id": "nQQbkWjom8Zv"
      }
    },
    {
      "cell_type": "code",
      "source": [
        "a = int(input(\"請輸入a的值:\"))\n",
        "b = int(input(\"請輸入b的值:\"))\n",
        "max = a*b\n",
        "for i in range(1,max+1):\n",
        "    if((i%a==0)and(i%b==0)):\n",
        "        break\n",
        "print(a,\"和\",b,\"的最小公倍數=%d\" %i)"
      ],
      "metadata": {
        "colab": {
          "base_uri": "https://localhost:8080/"
        },
        "id": "q8EOqLpomUIl",
        "outputId": "9ddf46d1-6954-41c6-b0fa-0356b98eaa03"
      },
      "execution_count": null,
      "outputs": [
        {
          "output_type": "stream",
          "name": "stdout",
          "text": [
            "請輸入a的值:4\n",
            "請輸入b的值:6\n",
            "4 和 6 的最小公倍數=12\n"
          ]
        }
      ]
    },
    {
      "cell_type": "code",
      "source": [
        "a = int(input(\"請輸入a的值:\"))\n",
        "b = int(input(\"請輸入b的值:\"))\n",
        "maxno = a * b\n",
        "for i in range(1,maxno+1):\n",
        "    if(i%a==0 and i%b==0):\n",
        "        break\n",
        "print(\"%d和 %d的最小公倍數 = %d\" %(a,b,i))"
      ],
      "metadata": {
        "colab": {
          "base_uri": "https://localhost:8080/"
        },
        "id": "ii0IjUeDoaOF",
        "outputId": "9a9d5126-db52-45eb-ece4-89f079734ca1"
      },
      "execution_count": null,
      "outputs": [
        {
          "output_type": "stream",
          "name": "stdout",
          "text": [
            "請輸入a的值:4\n",
            "請輸入b的值:6\n",
            "4和 6的最小公倍數 = 12\n"
          ]
        }
      ]
    },
    {
      "cell_type": "markdown",
      "source": [
        "除了5的倍數以外的整數"
      ],
      "metadata": {
        "id": "bUJ5v7cZnuYV"
      }
    },
    {
      "cell_type": "code",
      "source": [
        "n = int(input(\"請輸入正整數:\"))\n",
        "for i in range(1,n+1):\n",
        "    if(i%5==0):\n",
        "        continue\n",
        "    print(i,end = \" \")"
      ],
      "metadata": {
        "colab": {
          "base_uri": "https://localhost:8080/"
        },
        "id": "ABrJdVpXnBCs",
        "outputId": "420d7c25-632c-400c-9ca1-daa3917a123e"
      },
      "execution_count": null,
      "outputs": [
        {
          "output_type": "stream",
          "name": "stdout",
          "text": [
            "請輸入正整數:12\n",
            "1 2 3 4 6 7 8 9 11 12 "
          ]
        }
      ]
    },
    {
      "cell_type": "markdown",
      "source": [
        "偶數和奇數和"
      ],
      "metadata": {
        "id": "t20wSDP4o0w8"
      }
    },
    {
      "cell_type": "code",
      "source": [
        "n = int(input(\"請輸入正整數n的值:\"))\n",
        "a = i = 0\n",
        "while(i<=n):\n",
        "    a += i\n",
        "    i += 2\n",
        "print(\"0~%d的偶數和結果是%d\" %(n,a))"
      ],
      "metadata": {
        "colab": {
          "base_uri": "https://localhost:8080/"
        },
        "id": "JzWg0J9gn0UR",
        "outputId": "a0f6537b-de49-45ee-f520-12fd9f1c4530"
      },
      "execution_count": null,
      "outputs": [
        {
          "output_type": "stream",
          "name": "stdout",
          "text": [
            "請輸入正整數n的值:50\n",
            "0~50的偶數和結果是650\n"
          ]
        }
      ]
    },
    {
      "cell_type": "code",
      "source": [
        "i = 0\n",
        "result = 0\n",
        "while i <= 50:\n",
        "    if i % 2 == 0:\n",
        "        result += i\n",
        "    i+=1    \n",
        "print(\"0~50的偶數和結果是%d\" % result)"
      ],
      "metadata": {
        "colab": {
          "base_uri": "https://localhost:8080/"
        },
        "id": "SCsFGiCXsTwM",
        "outputId": "c1495752-5c8b-4c92-cc18-fad227bfdc8d"
      },
      "execution_count": null,
      "outputs": [
        {
          "output_type": "stream",
          "name": "stdout",
          "text": [
            "0~50的偶數和結果是650\n"
          ]
        }
      ]
    },
    {
      "cell_type": "code",
      "source": [
        "n = int(input(\"請輸入正整數n的值:\"))\n",
        "a = 0\n",
        "i = 1\n",
        "while(i<=n):\n",
        "    a += i\n",
        "    i += 2\n",
        "print(\"0~%d的奇數和結果是%d\" %(n,a))"
      ],
      "metadata": {
        "colab": {
          "base_uri": "https://localhost:8080/"
        },
        "id": "1C7DXSE6pZsn",
        "outputId": "e35249af-b0b2-4f13-cd87-63ff1e954fcf"
      },
      "execution_count": null,
      "outputs": [
        {
          "output_type": "stream",
          "name": "stdout",
          "text": [
            "請輸入正整數n的值:50\n",
            "0~50的奇數和結果是625\n"
          ]
        }
      ]
    },
    {
      "cell_type": "code",
      "source": [
        "i = 0\n",
        "result = 0\n",
        "while i <= 50:\n",
        "    if i % 2 != 0:\n",
        "        result += i\n",
        "    i+=1    \n",
        "print(\"0~50的奇數和結果是%d\" % result)"
      ],
      "metadata": {
        "colab": {
          "base_uri": "https://localhost:8080/"
        },
        "id": "lTYE8RPNsPMG",
        "outputId": "60a3b1f3-f64f-428f-8ab6-ab2fb214347a"
      },
      "execution_count": null,
      "outputs": [
        {
          "output_type": "stream",
          "name": "stdout",
          "text": [
            "0~50的奇數和結果是625\n"
          ]
        }
      ]
    },
    {
      "cell_type": "markdown",
      "source": [
        "*"
      ],
      "metadata": {
        "id": "ZA_pjZv5rTjf"
      }
    },
    {
      "cell_type": "code",
      "source": [
        "n = int(input(\"請輸入正整數:\"))\n",
        "for i in range(n,0,-1):\n",
        "    for j in range(i,0,-1):\n",
        "        print(\"*\", end=\" \")\n",
        "    print()"
      ],
      "metadata": {
        "colab": {
          "base_uri": "https://localhost:8080/"
        },
        "id": "J8bQeDTtqzRH",
        "outputId": "f4c5332d-6cb7-4edf-fe91-b4decf088b20"
      },
      "execution_count": null,
      "outputs": [
        {
          "output_type": "stream",
          "name": "stdout",
          "text": [
            "請輸入正整數:7\n",
            "* * * * * * * \n",
            "* * * * * * \n",
            "* * * * * \n",
            "* * * * \n",
            "* * * \n",
            "* * \n",
            "* \n"
          ]
        }
      ]
    },
    {
      "cell_type": "code",
      "source": [
        "n = int(input(\"請輸入正整數：\"))\n",
        "for i in range(1,n+1):\n",
        "    for j in range(i,n+1):\n",
        "        print(\"*\", end=\"\")\n",
        "    print()"
      ],
      "metadata": {
        "colab": {
          "base_uri": "https://localhost:8080/"
        },
        "id": "hGiF5miwsarx",
        "outputId": "9a6f0a57-230b-4e0e-ac89-8b3998a0f399"
      },
      "execution_count": null,
      "outputs": [
        {
          "output_type": "stream",
          "name": "stdout",
          "text": [
            "請輸入正整數：7\n",
            "*******\n",
            "******\n",
            "*****\n",
            "****\n",
            "***\n",
            "**\n",
            "*\n"
          ]
        }
      ]
    },
    {
      "cell_type": "markdown",
      "source": [
        "3和7的倍數"
      ],
      "metadata": {
        "id": "ioXB-C7Ar68y"
      }
    },
    {
      "cell_type": "code",
      "source": [
        "n = 0\n",
        "for i in range(1,100+1):\n",
        "    if i%3 == 0 or i%7 ==0:\n",
        "        n+=i\n",
        "print(\"數值1~100中,所有是 3 或 7 倍數的數之總和 = \",n)"
      ],
      "metadata": {
        "colab": {
          "base_uri": "https://localhost:8080/"
        },
        "id": "iIr-i3TtrWPY",
        "outputId": "971e164e-4091-48d4-c157-f7411fd45818"
      },
      "execution_count": null,
      "outputs": [
        {
          "output_type": "stream",
          "name": "stdout",
          "text": [
            "數值1~100中,所有是 3 或 7 倍數的數之總和 =  2208\n"
          ]
        }
      ]
    },
    {
      "cell_type": "markdown",
      "source": [
        "質數"
      ],
      "metadata": {
        "id": "S4w6f0sQsBSz"
      }
    },
    {
      "cell_type": "code",
      "source": [
        "n = int(input(\"請輸入正整數:\"))\n",
        "j = 0\n",
        "print(n,\"的因數有\",end = \" \")\n",
        "for i in range(1,n+1):\n",
        "    if(n%i == 0):\n",
        "        j+=1\n",
        "        print(i,end = \" \")\n",
        "if(j==2):\n",
        "    print()\n",
        "    print(n,\"是質數\")\n",
        "else:\n",
        "    print()\n",
        "    print(n,\"不是質數\")"
      ],
      "metadata": {
        "colab": {
          "base_uri": "https://localhost:8080/"
        },
        "id": "88JEmVC3r_Al",
        "outputId": "03843f58-b1c6-4bec-c1ac-2b68e4cbcb34"
      },
      "execution_count": null,
      "outputs": [
        {
          "output_type": "stream",
          "name": "stdout",
          "text": [
            "請輸入正整數:12\n",
            "12 的因數有 1 2 3 4 6 12 \n",
            "12 不是質數\n"
          ]
        }
      ]
    },
    {
      "cell_type": "code",
      "source": [
        "p=1\n",
        "counter=0\n",
        "n = int(input(\"請輸入正整數：\"))\n",
        "print(n,\"的因數有\",end=\" \")\n",
        "while (p<=n):\n",
        "    if (n%p==0):\n",
        "        print(p,end=\" \")\n",
        "        counter+=1\n",
        "    p+=1\n",
        "\n",
        "print()    \n",
        "if (counter==2):    \n",
        "    print(n,\"是質數\")\n",
        "else:\n",
        "    print(n,\"不是質數\")"
      ],
      "metadata": {
        "colab": {
          "base_uri": "https://localhost:8080/"
        },
        "id": "bJDS28VlsEug",
        "outputId": "64d931cb-ebb0-4e3a-b956-808ede327ba5"
      },
      "execution_count": null,
      "outputs": [
        {
          "output_type": "stream",
          "name": "stdout",
          "text": [
            "請輸入正整數：12\n",
            "12 的因數有 1 2 3 4 6 12 \n",
            "12 不是質數\n"
          ]
        }
      ]
    },
    {
      "cell_type": "markdown",
      "source": [
        "[]"
      ],
      "metadata": {
        "id": "IVgCoUcyv4pi"
      }
    },
    {
      "cell_type": "code",
      "source": [
        "subjects = [\"國文\",\"數學\",\"英文\"]\n",
        "scores = [85,79,93]\n",
        "for i in range(len(scores)):\n",
        "    print(\"%s成績:%d分\" %(subjects[i],scores[i]))"
      ],
      "metadata": {
        "colab": {
          "base_uri": "https://localhost:8080/"
        },
        "id": "R50D6hSntKS4",
        "outputId": "4f40dc3e-cb0f-419b-f298-6d9e91b0ca8c"
      },
      "execution_count": null,
      "outputs": [
        {
          "output_type": "stream",
          "name": "stdout",
          "text": [
            "國文成績:85分\n",
            "數學成績:79分\n",
            "英文成績:93分\n"
          ]
        }
      ]
    },
    {
      "cell_type": "code",
      "source": [
        "name = [\"Tom\",\"Mary\",\"Tony\"]\n",
        "num = [1,2,3]\n",
        "for i in range(len(name)):\n",
        "    print(\"編號:%d 姓名:%s\" %(num[i],name[i]))"
      ],
      "metadata": {
        "id": "uux-p9axv6EX",
        "outputId": "e73c766a-d396-47d9-99ed-3cf4a844feb4",
        "colab": {
          "base_uri": "https://localhost:8080/"
        }
      },
      "execution_count": null,
      "outputs": [
        {
          "output_type": "stream",
          "name": "stdout",
          "text": [
            "編號:1 姓名:Tom\n",
            "編號:2 姓名:Mary\n",
            "編號:3 姓名:Tony\n"
          ]
        }
      ]
    },
    {
      "cell_type": "code",
      "source": [
        "print(\"hi\")"
      ],
      "metadata": {
        "id": "Bh0nrgq8v8Ic",
        "colab": {
          "base_uri": "https://localhost:8080/"
        },
        "outputId": "da7f28af-dab7-4b17-f46a-9c1d039ddfae"
      },
      "execution_count": null,
      "outputs": [
        {
          "output_type": "stream",
          "name": "stdout",
          "text": [
            "hi\n"
          ]
        }
      ]
    },
    {
      "cell_type": "code",
      "source": [
        "print(\"hi\")"
      ],
      "metadata": {
        "colab": {
          "base_uri": "https://localhost:8080/"
        },
        "id": "dv0pdIYS9ywo",
        "outputId": "7d04e174-6fa1-4628-92df-edf8c8246e75"
      },
      "execution_count": null,
      "outputs": [
        {
          "output_type": "stream",
          "name": "stdout",
          "text": [
            "hi\n"
          ]
        }
      ]
    },
    {
      "cell_type": "code",
      "source": [
        ""
      ],
      "metadata": {
        "id": "BQnSLQIy-Bl-"
      },
      "execution_count": null,
      "outputs": []
    }
  ]
}